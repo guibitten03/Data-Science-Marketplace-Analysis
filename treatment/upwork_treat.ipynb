{
 "cells": [
  {
   "cell_type": "code",
   "execution_count": 135,
   "metadata": {},
   "outputs": [],
   "source": [
    "import pandas as pd\n",
    "import numpy as np\n",
    "from bs4 import BeautifulSoup"
   ]
  },
  {
   "cell_type": "code",
   "execution_count": 136,
   "metadata": {},
   "outputs": [
    {
     "data": {
      "text/html": [
       "<div>\n",
       "<style scoped>\n",
       "    .dataframe tbody tr th:only-of-type {\n",
       "        vertical-align: middle;\n",
       "    }\n",
       "\n",
       "    .dataframe tbody tr th {\n",
       "        vertical-align: top;\n",
       "    }\n",
       "\n",
       "    .dataframe thead th {\n",
       "        text-align: right;\n",
       "    }\n",
       "</style>\n",
       "<table border=\"1\" class=\"dataframe\">\n",
       "  <thead>\n",
       "    <tr style=\"text-align: right;\">\n",
       "      <th></th>\n",
       "      <th>content</th>\n",
       "    </tr>\n",
       "  </thead>\n",
       "  <tbody>\n",
       "    <tr>\n",
       "      <th>0</th>\n",
       "      <td>&lt;div class=\"col-12 cfe-ui-job-details-content\"...</td>\n",
       "    </tr>\n",
       "    <tr>\n",
       "      <th>1</th>\n",
       "      <td>&lt;div class=\"col-12 cfe-ui-job-details-content\"...</td>\n",
       "    </tr>\n",
       "    <tr>\n",
       "      <th>2</th>\n",
       "      <td>&lt;div class=\"col-12 cfe-ui-job-details-content\"...</td>\n",
       "    </tr>\n",
       "    <tr>\n",
       "      <th>3</th>\n",
       "      <td>&lt;div class=\"col-12 cfe-ui-job-details-content\"...</td>\n",
       "    </tr>\n",
       "    <tr>\n",
       "      <th>4</th>\n",
       "      <td>&lt;div class=\"col-12 cfe-ui-job-details-content\"...</td>\n",
       "    </tr>\n",
       "  </tbody>\n",
       "</table>\n",
       "</div>"
      ],
      "text/plain": [
       "                                             content\n",
       "0  <div class=\"col-12 cfe-ui-job-details-content\"...\n",
       "1  <div class=\"col-12 cfe-ui-job-details-content\"...\n",
       "2  <div class=\"col-12 cfe-ui-job-details-content\"...\n",
       "3  <div class=\"col-12 cfe-ui-job-details-content\"...\n",
       "4  <div class=\"col-12 cfe-ui-job-details-content\"..."
      ]
     },
     "execution_count": 136,
     "metadata": {},
     "output_type": "execute_result"
    }
   ],
   "source": [
    "upwork = pd.read_csv(\"../datasets/raw_upwork_dataScience.csv\")\n",
    "upwork.head()"
   ]
  },
  {
   "cell_type": "code",
   "execution_count": 137,
   "metadata": {},
   "outputs": [
    {
     "data": {
      "text/plain": [
       "(880, 1)"
      ]
     },
     "execution_count": 137,
     "metadata": {},
     "output_type": "execute_result"
    }
   ],
   "source": [
    "upwork.shape"
   ]
  },
  {
   "cell_type": "code",
   "execution_count": 138,
   "metadata": {},
   "outputs": [],
   "source": [
    "new_upwork = pd.DataFrame()"
   ]
  },
  {
   "cell_type": "code",
   "execution_count": 139,
   "metadata": {},
   "outputs": [],
   "source": [
    "soup = []\n",
    "\n",
    "for job in upwork['content'].values:\n",
    "    job_element = BeautifulSoup(job, \"html.parser\")\n",
    "    soup.append(job_element)"
   ]
  },
  {
   "attachments": {},
   "cell_type": "markdown",
   "metadata": {},
   "source": [
    "## Titles and Descriptions"
   ]
  },
  {
   "cell_type": "code",
   "execution_count": 140,
   "metadata": {},
   "outputs": [
    {
     "name": "stdout",
     "output_type": "stream",
     "text": [
      "880\n",
      "880\n"
     ]
    }
   ],
   "source": [
    "titles, descriptions = [], []\n",
    "for job in soup:\n",
    "    title = job.find(\"h1\", {\"class\":\"my-0 mr-10 display-rebrand\"})\n",
    "    description = job.find(\"div\", {\"class\":\"job-description break mb-0\"})\n",
    "    \n",
    "    titles.append(title.text)\n",
    "    descriptions.append(description.text)\n",
    "    \n",
    "print(len(titles))\n",
    "print(len(descriptions))\n",
    "    "
   ]
  },
  {
   "attachments": {},
   "cell_type": "markdown",
   "metadata": {},
   "source": [
    "## Skills"
   ]
  },
  {
   "cell_type": "code",
   "execution_count": 141,
   "metadata": {},
   "outputs": [],
   "source": [
    "skills_list = []\n",
    "\n",
    "for job in soup:\n",
    "    skills = job.find_all(\"span\", {\"class\":\"cfe-ui-job-skill up-skill-badge disabled m-0-left m-0-top m-xs-bottom\"})\n",
    "    skills = [skill.text for skill in skills]\n",
    "    skills_list.append(skills)"
   ]
  },
  {
   "cell_type": "code",
   "execution_count": 142,
   "metadata": {},
   "outputs": [
    {
     "data": {
      "text/plain": [
       "880"
      ]
     },
     "execution_count": 142,
     "metadata": {},
     "output_type": "execute_result"
    }
   ],
   "source": [
    "len(skills_list)"
   ]
  },
  {
   "cell_type": "code",
   "execution_count": 143,
   "metadata": {},
   "outputs": [
    {
     "data": {
      "text/plain": [
       "['Business Intelligence',\n",
       " 'Data Analytics',\n",
       " 'Data Interpretation',\n",
       " 'Marketing Analytics',\n",
       " 'Operations Analytics',\n",
       " 'Product Analytics',\n",
       " 'Human Resources Analytics',\n",
       " 'Sales Analytics',\n",
       " 'Google Analytics',\n",
       " 'Data Analysis']"
      ]
     },
     "execution_count": 143,
     "metadata": {},
     "output_type": "execute_result"
    }
   ],
   "source": [
    "skills_list[8]"
   ]
  },
  {
   "cell_type": "code",
   "execution_count": 144,
   "metadata": {},
   "outputs": [],
   "source": [
    "import re\n",
    "\n",
    "def treat_string(text):\n",
    "    text = text.replace(\"\\n\", \" \")\n",
    "    text = text.replace(\"/hr\", \" \")\n",
    "    text = text.strip()\n",
    "    text = re.sub(r\"\\s+\", \" \", text)\n",
    "    text = text.replace(\"$\", \"\")\n",
    "    text = re.sub(\"[^0-9.]\", \"\", text)\n",
    "    return text"
   ]
  },
  {
   "attachments": {},
   "cell_type": "markdown",
   "metadata": {},
   "source": [
    "## About the client"
   ]
  },
  {
   "cell_type": "code",
   "execution_count": 145,
   "metadata": {},
   "outputs": [],
   "source": [
    "def get_client_informations(data_qa):\n",
    "    info_list = []\n",
    "    \n",
    "    for i, job in enumerate(soup):\n",
    "        info = job.select_one(f\"li[data-qa={data_qa}]\")\n",
    "        if info != None:\n",
    "            info = info.find(\"strong\").text\n",
    "            info_list.append((i, info))\n",
    "            \n",
    "    return info_list"
   ]
  },
  {
   "attachments": {},
   "cell_type": "markdown",
   "metadata": {},
   "source": [
    "#### Countries"
   ]
  },
  {
   "cell_type": "code",
   "execution_count": 146,
   "metadata": {},
   "outputs": [],
   "source": [
    "countries = get_client_informations('client-location')"
   ]
  },
  {
   "attachments": {},
   "cell_type": "markdown",
   "metadata": {},
   "source": [
    "#### Jobs Posted"
   ]
  },
  {
   "cell_type": "code",
   "execution_count": 147,
   "metadata": {},
   "outputs": [],
   "source": [
    "jobs_posted = get_client_informations('client-job-posting-stats')\n",
    "jobs_posted = [(i, treat_string(value)) for (i, value) in jobs_posted]"
   ]
  },
  {
   "attachments": {},
   "cell_type": "markdown",
   "metadata": {},
   "source": [
    "#### Avarege paid for hour - Ex: \\$ 8.00 /hr"
   ]
  },
  {
   "cell_type": "code",
   "execution_count": 148,
   "metadata": {},
   "outputs": [
    {
     "data": {
      "text/plain": [
       "(0, '20.00')"
      ]
     },
     "execution_count": 148,
     "metadata": {},
     "output_type": "execute_result"
    }
   ],
   "source": [
    "paid_hour_paided = []\n",
    "\n",
    "for i, job in enumerate(soup):\n",
    "    info = job.select_one(\"strong[data-qa='client-hourly-rate']\")\n",
    "    if info != None:\n",
    "        info = info.text\n",
    "        info = treat_string(info)\n",
    "        paid_hour_paided.append((i, info))\n",
    "    \n",
    "paid_hour_paided[0]"
   ]
  },
  {
   "cell_type": "code",
   "execution_count": 149,
   "metadata": {},
   "outputs": [
    {
     "data": {
      "text/plain": [
       "(34, '40.49')"
      ]
     },
     "execution_count": 149,
     "metadata": {},
     "output_type": "execute_result"
    }
   ],
   "source": [
    "paid_hour_paided[20]"
   ]
  },
  {
   "attachments": {},
   "cell_type": "markdown",
   "metadata": {},
   "source": [
    "#### Total Spent - Ex: \\$ 45K (or) \\$ 6.2K"
   ]
  },
  {
   "cell_type": "code",
   "execution_count": 150,
   "metadata": {},
   "outputs": [
    {
     "data": {
      "text/plain": [
       "(0, '6.2')"
      ]
     },
     "execution_count": 150,
     "metadata": {},
     "output_type": "execute_result"
    }
   ],
   "source": [
    "total_spent = []\n",
    "\n",
    "for i, job in enumerate(soup):\n",
    "    info = job.select_one(\"strong[data-qa='client-spend']\")\n",
    "    if info != None:\n",
    "        info = info.text\n",
    "        info = treat_string(info)\n",
    "        total_spent.append((i, info))\n",
    "    \n",
    "total_spent[0]"
   ]
  },
  {
   "cell_type": "code",
   "execution_count": 151,
   "metadata": {},
   "outputs": [
    {
     "data": {
      "text/plain": [
       "(229, '5.6')"
      ]
     },
     "execution_count": 151,
     "metadata": {},
     "output_type": "execute_result"
    }
   ],
   "source": [
    "total_spent[160]"
   ]
  },
  {
   "cell_type": "code",
   "execution_count": 152,
   "metadata": {},
   "outputs": [
    {
     "data": {
      "text/plain": [
       "880"
      ]
     },
     "execution_count": 152,
     "metadata": {},
     "output_type": "execute_result"
    }
   ],
   "source": [
    "client_features = []\n",
    "\n",
    "for i, job in enumerate(soup):\n",
    "    job_features = job.select_one('ul.cfe-ui-job-about-client-visitor')\n",
    "    if job_features != None:\n",
    "        client_features.append(job_features)\n",
    "    \n",
    "len(client_features)"
   ]
  },
  {
   "attachments": {},
   "cell_type": "markdown",
   "metadata": {},
   "source": [
    "#### Domain"
   ]
  },
  {
   "cell_type": "code",
   "execution_count": 153,
   "metadata": {},
   "outputs": [],
   "source": [
    "def treat_domain_string(text):\n",
    "    text = text.replace(\"\\n\", \" \")\n",
    "    text = text.strip()\n",
    "    text = text.split(\"&\")\n",
    "    text = [t.strip() for t in text]\n",
    "    return text"
   ]
  },
  {
   "cell_type": "code",
   "execution_count": 154,
   "metadata": {},
   "outputs": [
    {
     "data": {
      "text/plain": [
       "(1, ['Sales', 'Marketing'])"
      ]
     },
     "execution_count": 154,
     "metadata": {},
     "output_type": "execute_result"
    }
   ],
   "source": [
    "domains = []\n",
    "\n",
    "for i, job in enumerate(soup):\n",
    "    info = job.select_one(\"strong[data-qa='client-company-profile-industry']\")\n",
    "    if info != None:\n",
    "        info = info.text\n",
    "        info = treat_domain_string(info)\n",
    "        domains.append((i, info))\n",
    "        \n",
    "domains[0]"
   ]
  },
  {
   "cell_type": "code",
   "execution_count": 155,
   "metadata": {},
   "outputs": [
    {
     "data": {
      "text/plain": [
       "341"
      ]
     },
     "execution_count": 155,
     "metadata": {},
     "output_type": "execute_result"
    }
   ],
   "source": [
    "len(domains)"
   ]
  },
  {
   "cell_type": "code",
   "execution_count": 156,
   "metadata": {},
   "outputs": [
    {
     "data": {
      "text/plain": [
       "341"
      ]
     },
     "execution_count": 156,
     "metadata": {},
     "output_type": "execute_result"
    }
   ],
   "source": [
    "len(domains)"
   ]
  },
  {
   "cell_type": "code",
   "execution_count": 157,
   "metadata": {},
   "outputs": [],
   "source": [
    "client_texts = {}\n",
    "\n",
    "for i, job in enumerate(client_features):\n",
    "    headers = job.find_all(\"strong\")\n",
    "    header_features = [h.text for h in headers]\n",
    "    client_texts[i] = header_features"
   ]
  },
  {
   "cell_type": "code",
   "execution_count": 158,
   "metadata": {},
   "outputs": [],
   "source": [
    "new_cft = {}\n",
    "\n",
    "for key, values in client_texts.items():\n",
    "    new_values = [treat_string(text) for text in values]\n",
    "    new_cft[key] = new_values"
   ]
  },
  {
   "cell_type": "code",
   "execution_count": 159,
   "metadata": {},
   "outputs": [
    {
     "data": {
      "text/plain": [
       "['', '80', '43', '8.38', '']"
      ]
     },
     "execution_count": 159,
     "metadata": {},
     "output_type": "execute_result"
    }
   ],
   "source": [
    "new_cft[1]"
   ]
  },
  {
   "attachments": {},
   "cell_type": "markdown",
   "metadata": {},
   "source": [
    "## Job Features"
   ]
  },
  {
   "cell_type": "code",
   "execution_count": 160,
   "metadata": {},
   "outputs": [
    {
     "data": {
      "text/plain": [
       "880"
      ]
     },
     "execution_count": 160,
     "metadata": {},
     "output_type": "execute_result"
    }
   ],
   "source": [
    "job_features_elements = []\n",
    "\n",
    "for i, job in enumerate(soup):\n",
    "    job_features = job.select_one('ul.cfe-ui-job-features')\n",
    "    if job_features != None:\n",
    "        job_features_elements.append(job_features)\n",
    "    \n",
    "len(job_features_elements)"
   ]
  },
  {
   "attachments": {},
   "cell_type": "markdown",
   "metadata": {},
   "source": [
    "#### Prices"
   ]
  },
  {
   "cell_type": "code",
   "execution_count": 161,
   "metadata": {},
   "outputs": [],
   "source": [
    "def hour_string(text):\n",
    "    text = text.strip()\n",
    "    text = text.replace(\"$\", \"\")\n",
    "    text = text.split(\"-\")\n",
    "    return text\n",
    "\n",
    "def fixed_string(text):\n",
    "    text = text.strip()\n",
    "    text = text.replace(\"$\", \"\")\n",
    "    text = re.sub(\"[^0-9.]\", \"\", text)\n",
    "    return text"
   ]
  },
  {
   "cell_type": "code",
   "execution_count": 162,
   "metadata": {},
   "outputs": [],
   "source": [
    "fixed_prices, hour_prices = [], []\n",
    "\n",
    "for i, job in enumerate(job_features_elements):\n",
    "    info = job.find(lambda tag: tag.name == 'strong' and '$' in tag.text)\n",
    "    if info != None:\n",
    "        if info.find('span'):\n",
    "            for span in info.find_all('span'):\n",
    "                span.unwrap()\n",
    "            info = hour_string(info.text)\n",
    "            hour_prices.append((i, info))\n",
    "        else:\n",
    "            info = fixed_string(info.text)\n",
    "            fixed_prices.append((i, info))\n",
    "        "
   ]
  },
  {
   "cell_type": "code",
   "execution_count": 163,
   "metadata": {},
   "outputs": [
    {
     "data": {
      "text/plain": [
       "(45, ['40.00', '75.00'])"
      ]
     },
     "execution_count": 163,
     "metadata": {},
     "output_type": "execute_result"
    }
   ],
   "source": [
    "hour_prices[20]"
   ]
  },
  {
   "attachments": {},
   "cell_type": "markdown",
   "metadata": {},
   "source": [
    "#### Experience"
   ]
  },
  {
   "cell_type": "code",
   "execution_count": 164,
   "metadata": {},
   "outputs": [],
   "source": [
    "experiences = []\n",
    "\n",
    "for i, job in enumerate(job_features_elements):\n",
    "    info = job.select_one(\"div[data-cy='expertise']\").find_parent()\n",
    "    if info != None:\n",
    "        info = info.find(\"strong\").text\n",
    "        experiences.append((i, info))"
   ]
  },
  {
   "cell_type": "code",
   "execution_count": 165,
   "metadata": {},
   "outputs": [
    {
     "data": {
      "text/plain": [
       "(0, 'Expert')"
      ]
     },
     "execution_count": 165,
     "metadata": {},
     "output_type": "execute_result"
    }
   ],
   "source": [
    "experiences[0]"
   ]
  },
  {
   "attachments": {},
   "cell_type": "markdown",
   "metadata": {},
   "source": [
    "#### Local Job"
   ]
  },
  {
   "cell_type": "code",
   "execution_count": 166,
   "metadata": {},
   "outputs": [],
   "source": [
    "local_jobs = []\n",
    "\n",
    "for i, job in enumerate(job_features_elements):\n",
    "    info = job.select_one(\"div[data-cy='local']\").find_parent()\n",
    "    if info != None:\n",
    "        info = info.find(\"strong\").text\n",
    "        local_jobs.append((i, info))"
   ]
  },
  {
   "cell_type": "code",
   "execution_count": 167,
   "metadata": {},
   "outputs": [
    {
     "data": {
      "text/plain": [
       "(300, 'Remote Job')"
      ]
     },
     "execution_count": 167,
     "metadata": {},
     "output_type": "execute_result"
    }
   ],
   "source": [
    "local_jobs[300]"
   ]
  },
  {
   "attachments": {},
   "cell_type": "markdown",
   "metadata": {},
   "source": [
    "## Creating DataFrame"
   ]
  },
  {
   "attachments": {},
   "cell_type": "markdown",
   "metadata": {},
   "source": [
    "#### Some treatment"
   ]
  },
  {
   "cell_type": "code",
   "execution_count": 186,
   "metadata": {},
   "outputs": [],
   "source": [
    "def treat_title_desc(text):\n",
    "    text = text.replace(\"\\n\", \"\")\n",
    "    text = text.strip()\n",
    "    \n",
    "    # Emoji Remotion\n",
    "    emoji_pattern = re.compile(\"[\"\n",
    "                               u\"\\U0001F600-\\U0001F64F\"  # emoticons\n",
    "                               u\"\\U0001F300-\\U0001F5FF\"  # symbols & pictographs\n",
    "                               u\"\\U0001F680-\\U0001F6FF\"  # transport & map symbols\n",
    "                               u\"\\U0001F1E0-\\U0001F1FF\"  # flags (iOS)\n",
    "                               u\"\\U00002500-\\U00002BEF\"  # chinese char\n",
    "                               u\"\\U00002702-\\U000027B0\"\n",
    "                               u\"\\U00002702-\\U000027B0\"\n",
    "                               u\"\\U000024C2-\\U0001F251\"\n",
    "                               u\"\\U0001f926-\\U0001f937\"\n",
    "                               u\"\\U00010000-\\U0010ffff\"\n",
    "                               u\"\\u2640-\\u2642\"\n",
    "                               u\"\\u2600-\\u2B55\"\n",
    "                               u\"\\u200d\"\n",
    "                               u\"\\u23cf\"\n",
    "                               u\"\\u23e9\"\n",
    "                               u\"\\u231a\"\n",
    "                               u\"\\ufe0f\"  # dingbats\n",
    "                               u\"\\u3030\"\n",
    "                               \"]+\", flags=re.UNICODE)\n",
    "    return emoji_pattern.sub(r'', text)\n",
    "\n",
    "titles = [treat_title_desc(title) for title in titles]\n",
    "descriptions = [treat_title_desc(desc) for desc in descriptions]"
   ]
  },
  {
   "cell_type": "code",
   "execution_count": 169,
   "metadata": {},
   "outputs": [],
   "source": [
    "size = 880"
   ]
  },
  {
   "cell_type": "code",
   "execution_count": 170,
   "metadata": {},
   "outputs": [],
   "source": [
    "def complete_list(info_list):\n",
    "    keys = [info_list[key][0] for key in range(len(info_list))]\n",
    "    for i in range(size):\n",
    "        if i not in keys:\n",
    "            info_list.append((i, None))\n",
    "            \n",
    "    info_list = sorted(info_list, key=lambda x: x[0])\n",
    "    info_list = [x[1] for x in info_list]\n",
    "    return info_list"
   ]
  },
  {
   "cell_type": "code",
   "execution_count": 171,
   "metadata": {},
   "outputs": [
    {
     "data": {
      "text/plain": [
       "880"
      ]
     },
     "execution_count": 171,
     "metadata": {},
     "output_type": "execute_result"
    }
   ],
   "source": [
    "countries = complete_list(countries)\n",
    "len(countries)"
   ]
  },
  {
   "cell_type": "code",
   "execution_count": 172,
   "metadata": {},
   "outputs": [
    {
     "data": {
      "text/plain": [
       "880"
      ]
     },
     "execution_count": 172,
     "metadata": {},
     "output_type": "execute_result"
    }
   ],
   "source": [
    "jobs_posted = complete_list(jobs_posted)\n",
    "len(jobs_posted)"
   ]
  },
  {
   "cell_type": "code",
   "execution_count": 173,
   "metadata": {},
   "outputs": [
    {
     "data": {
      "text/plain": [
       "880"
      ]
     },
     "execution_count": 173,
     "metadata": {},
     "output_type": "execute_result"
    }
   ],
   "source": [
    "paid_hour_paided = complete_list(paid_hour_paided)\n",
    "len(paid_hour_paided)"
   ]
  },
  {
   "cell_type": "code",
   "execution_count": 174,
   "metadata": {},
   "outputs": [
    {
     "data": {
      "text/plain": [
       "880"
      ]
     },
     "execution_count": 174,
     "metadata": {},
     "output_type": "execute_result"
    }
   ],
   "source": [
    "total_spent = complete_list(total_spent)\n",
    "len(total_spent)"
   ]
  },
  {
   "cell_type": "code",
   "execution_count": 175,
   "metadata": {},
   "outputs": [],
   "source": [
    "domains = complete_list(domains)"
   ]
  },
  {
   "cell_type": "code",
   "execution_count": 176,
   "metadata": {},
   "outputs": [
    {
     "data": {
      "text/plain": [
       "880"
      ]
     },
     "execution_count": 176,
     "metadata": {},
     "output_type": "execute_result"
    }
   ],
   "source": [
    "len(domains)"
   ]
  },
  {
   "cell_type": "code",
   "execution_count": 177,
   "metadata": {},
   "outputs": [
    {
     "data": {
      "text/plain": [
       "880"
      ]
     },
     "execution_count": 177,
     "metadata": {},
     "output_type": "execute_result"
    }
   ],
   "source": [
    "fixed_prices = complete_list(fixed_prices)\n",
    "len(fixed_prices)"
   ]
  },
  {
   "cell_type": "code",
   "execution_count": 178,
   "metadata": {},
   "outputs": [
    {
     "data": {
      "text/plain": [
       "880"
      ]
     },
     "execution_count": 178,
     "metadata": {},
     "output_type": "execute_result"
    }
   ],
   "source": [
    "hour_prices = complete_list(hour_prices)\n",
    "len(hour_prices)"
   ]
  },
  {
   "cell_type": "code",
   "execution_count": 179,
   "metadata": {},
   "outputs": [
    {
     "data": {
      "text/plain": [
       "880"
      ]
     },
     "execution_count": 179,
     "metadata": {},
     "output_type": "execute_result"
    }
   ],
   "source": [
    "local_jobs = complete_list(local_jobs)\n",
    "len(local_jobs)"
   ]
  },
  {
   "cell_type": "code",
   "execution_count": 180,
   "metadata": {},
   "outputs": [
    {
     "data": {
      "text/plain": [
       "880"
      ]
     },
     "execution_count": 180,
     "metadata": {},
     "output_type": "execute_result"
    }
   ],
   "source": [
    "experiences = complete_list(experiences)\n",
    "len(experiences)"
   ]
  },
  {
   "cell_type": "code",
   "execution_count": 187,
   "metadata": {},
   "outputs": [
    {
     "data": {
      "text/html": [
       "<div>\n",
       "<style scoped>\n",
       "    .dataframe tbody tr th:only-of-type {\n",
       "        vertical-align: middle;\n",
       "    }\n",
       "\n",
       "    .dataframe tbody tr th {\n",
       "        vertical-align: top;\n",
       "    }\n",
       "\n",
       "    .dataframe thead th {\n",
       "        text-align: right;\n",
       "    }\n",
       "</style>\n",
       "<table border=\"1\" class=\"dataframe\">\n",
       "  <thead>\n",
       "    <tr style=\"text-align: right;\">\n",
       "      <th></th>\n",
       "      <th>Title</th>\n",
       "      <th>Description</th>\n",
       "      <th>Skills</th>\n",
       "      <th>Source Country</th>\n",
       "      <th>Client Porpouses</th>\n",
       "      <th>Average Hour Paid ($)</th>\n",
       "      <th>Total Spent (K$)</th>\n",
       "      <th>Domain of Job</th>\n",
       "      <th>Fixed Price ($)</th>\n",
       "      <th>Price per Hour ($)</th>\n",
       "      <th>Work on</th>\n",
       "      <th>Experience Required</th>\n",
       "    </tr>\n",
       "  </thead>\n",
       "  <tbody>\n",
       "    <tr>\n",
       "      <th>0</th>\n",
       "      <td>Webcrawler to collect data of all escaperooms ...</td>\n",
       "      <td>For a specific project we need as much informa...</td>\n",
       "      <td>[Data Scraping, Data Mining, Data Extraction, ...</td>\n",
       "      <td>Netherlands</td>\n",
       "      <td>53</td>\n",
       "      <td>20.00</td>\n",
       "      <td>6.2</td>\n",
       "      <td>None</td>\n",
       "      <td>300.00</td>\n",
       "      <td>None</td>\n",
       "      <td>Remote Job</td>\n",
       "      <td>Expert</td>\n",
       "    </tr>\n",
       "    <tr>\n",
       "      <th>1</th>\n",
       "      <td>Build a Browse AI Robot to Multiple Sites to E...</td>\n",
       "      <td>Im looking to use the Browse AI software to ex...</td>\n",
       "      <td>[Artificial Intelligence, Data Scraping, Data ...</td>\n",
       "      <td>United States</td>\n",
       "      <td>80</td>\n",
       "      <td>8.38</td>\n",
       "      <td>43</td>\n",
       "      <td>[Sales, Marketing]</td>\n",
       "      <td>None</td>\n",
       "      <td>None</td>\n",
       "      <td>Remote Job</td>\n",
       "      <td>Intermediate</td>\n",
       "    </tr>\n",
       "    <tr>\n",
       "      <th>2</th>\n",
       "      <td>Google Analytics, GA4 Migration, and Set-up</td>\n",
       "      <td>We are seeking an experienced Google Analytics...</td>\n",
       "      <td>[Marketing Analytics, Operations Analytics, Go...</td>\n",
       "      <td>United States</td>\n",
       "      <td>15</td>\n",
       "      <td>46.82</td>\n",
       "      <td>6.4</td>\n",
       "      <td>None</td>\n",
       "      <td>None</td>\n",
       "      <td>[60.00, 80.00]</td>\n",
       "      <td>Remote Job</td>\n",
       "      <td>Expert</td>\n",
       "    </tr>\n",
       "    <tr>\n",
       "      <th>3</th>\n",
       "      <td>Google Trends API - Python Notebook</td>\n",
       "      <td>Build a Google Collab Notebook that queries th...</td>\n",
       "      <td>[API, Python, Jupyter, Google Trends]</td>\n",
       "      <td>Australia</td>\n",
       "      <td>117</td>\n",
       "      <td>16.70</td>\n",
       "      <td>393</td>\n",
       "      <td>None</td>\n",
       "      <td>200.00</td>\n",
       "      <td>None</td>\n",
       "      <td>Remote Job</td>\n",
       "      <td>Intermediate</td>\n",
       "    </tr>\n",
       "    <tr>\n",
       "      <th>4</th>\n",
       "      <td>Data analysis in excel</td>\n",
       "      <td>I have a spreadsheet of raw data from a labor ...</td>\n",
       "      <td>[Microsoft Excel, Data Analysis]</td>\n",
       "      <td>United States</td>\n",
       "      <td>4</td>\n",
       "      <td>17.68</td>\n",
       "      <td>818</td>\n",
       "      <td>None</td>\n",
       "      <td>None</td>\n",
       "      <td>[5.00, 20.00]</td>\n",
       "      <td>Remote Job</td>\n",
       "      <td>Entry level</td>\n",
       "    </tr>\n",
       "  </tbody>\n",
       "</table>\n",
       "</div>"
      ],
      "text/plain": [
       "                                               Title  \\\n",
       "0  Webcrawler to collect data of all escaperooms ...   \n",
       "1  Build a Browse AI Robot to Multiple Sites to E...   \n",
       "2        Google Analytics, GA4 Migration, and Set-up   \n",
       "3                Google Trends API - Python Notebook   \n",
       "4                             Data analysis in excel   \n",
       "\n",
       "                                         Description  \\\n",
       "0  For a specific project we need as much informa...   \n",
       "1  Im looking to use the Browse AI software to ex...   \n",
       "2  We are seeking an experienced Google Analytics...   \n",
       "3  Build a Google Collab Notebook that queries th...   \n",
       "4  I have a spreadsheet of raw data from a labor ...   \n",
       "\n",
       "                                              Skills Source Country  \\\n",
       "0  [Data Scraping, Data Mining, Data Extraction, ...    Netherlands   \n",
       "1  [Artificial Intelligence, Data Scraping, Data ...  United States   \n",
       "2  [Marketing Analytics, Operations Analytics, Go...  United States   \n",
       "3              [API, Python, Jupyter, Google Trends]      Australia   \n",
       "4                   [Microsoft Excel, Data Analysis]  United States   \n",
       "\n",
       "  Client Porpouses Average Hour Paid ($) Total Spent (K$)       Domain of Job  \\\n",
       "0               53                 20.00              6.2                None   \n",
       "1               80                  8.38               43  [Sales, Marketing]   \n",
       "2               15                 46.82              6.4                None   \n",
       "3              117                 16.70              393                None   \n",
       "4                4                 17.68              818                None   \n",
       "\n",
       "  Fixed Price ($) Price per Hour ($)     Work on Experience Required  \n",
       "0          300.00               None  Remote Job              Expert  \n",
       "1            None               None  Remote Job        Intermediate  \n",
       "2            None     [60.00, 80.00]  Remote Job              Expert  \n",
       "3          200.00               None  Remote Job        Intermediate  \n",
       "4            None      [5.00, 20.00]  Remote Job         Entry level  "
      ]
     },
     "execution_count": 187,
     "metadata": {},
     "output_type": "execute_result"
    }
   ],
   "source": [
    "upwork = pd.DataFrame({\n",
    "    \"Title\": titles,\n",
    "    \"Description\": descriptions,\n",
    "    \"Skills\": skills_list,\n",
    "    \"Source Country\": countries,\n",
    "    \"Client Porpouses\": jobs_posted,\n",
    "    \"Average Hour Paid ($)\": paid_hour_paided,\n",
    "    \"Total Spent (K$)\": total_spent,\n",
    "    \"Domain of Job\": domains,\n",
    "    \"Fixed Price ($)\": fixed_prices,\n",
    "    \"Price per Hour ($)\": hour_prices,\n",
    "    \"Work on\": local_jobs,\n",
    "    \"Experience Required\": experiences\n",
    "})\n",
    "\n",
    "upwork.head()"
   ]
  },
  {
   "cell_type": "code",
   "execution_count": 188,
   "metadata": {},
   "outputs": [],
   "source": [
    "upwork.to_csv(\"../datasets/upwork_dataScience.csv\", index=False)"
   ]
  }
 ],
 "metadata": {
  "kernelspec": {
   "display_name": ".venv",
   "language": "python",
   "name": "python3"
  },
  "language_info": {
   "codemirror_mode": {
    "name": "ipython",
    "version": 3
   },
   "file_extension": ".py",
   "mimetype": "text/x-python",
   "name": "python",
   "nbconvert_exporter": "python",
   "pygments_lexer": "ipython3",
   "version": "3.10.6"
  },
  "orig_nbformat": 4
 },
 "nbformat": 4,
 "nbformat_minor": 2
}
