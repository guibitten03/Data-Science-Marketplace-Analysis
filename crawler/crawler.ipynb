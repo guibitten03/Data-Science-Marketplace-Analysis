{
 "cells": [
  {
   "cell_type": "code",
   "execution_count": 2,
   "metadata": {},
   "outputs": [],
   "source": [
    "import time\n",
    "import requests\n",
    "import pandas as pd\n",
    "from bs4 import BeautifulSoup\n",
    "from selenium import webdriver\n",
    "from selenium.webdriver.firefox.options import Options\n",
    "from selenium.webdriver.common.keys import Keys\n",
    "from selenium.webdriver.common.by import By\n",
    "import json"
   ]
  },
  {
   "cell_type": "code",
   "execution_count": 31,
   "metadata": {},
   "outputs": [
    {
     "name": "stderr",
     "output_type": "stream",
     "text": [
      "/tmp/ipykernel_55692/2140895054.py:4: DeprecationWarning: headless property is deprecated, instead use add_argument('-headless')\n",
      "  option.headless = True\n"
     ]
    },
    {
     "name": "stdout",
     "output_type": "stream",
     "text": [
      "None\n"
     ]
    }
   ],
   "source": [
    "url = \"https://www.99freelas.com.br/\"\n",
    "\n",
    "option = Options()\n",
    "option.headless = True\n",
    "\n",
    "driver = webdriver.Firefox()\n",
    "\n",
    "driver.get(url)\n",
    "\n",
    "# driver.maximize_window()\n",
    "\n",
    "# Selecionando busca\n",
    "search_element = driver.find_element(\"xpath\",\n",
    "                                     \"//input[@placeholder='Buscar freelancers']\")\n",
    "search_element.send_keys(\"data science\" + Keys.RETURN)\n",
    "\n",
    "time.sleep(1)\n",
    "\n",
    "page_size = 80\n",
    "\n",
    "for page in range(page_size):\n",
    "    # Clicar na aba\n",
    "    \n",
    "    if page < 11:\n",
    "        page += 1\n",
    "        el = f\"//span[@data-page='{page}']\"\n",
    "        page = driver.find_element(\"xpath\", el).click()\n",
    "        continue\n",
    "    try:\n",
    "        page += 1\n",
    "        el = f\"//span[@data-page='{page}']\"\n",
    "        page = driver.find_element(\"xpath\", el).click()\n",
    "    except:\n",
    "        continue\n",
    "\n",
    "    time.sleep(1)\n",
    "\n",
    "    # Pegando lista de freelas da página\n",
    "    try:\n",
    "        freelas_result = driver.find_element(By.CLASS_NAME, \"result-list\")\n",
    "        html_content = freelas_result.get_attribute('outerHTML')\n",
    "        soup = BeautifulSoup(html_content, \"html.parser\")\n",
    "        ul_size = len(soup.find_all('li'))\n",
    "    except:\n",
    "        continue\n",
    "    \n",
    "    height = 500\n",
    "\n",
    "    for user in range(ul_size):\n",
    "\n",
    "        # Get freelas Name\n",
    "        try:\n",
    "            content = soup.find_all(\"li\", {\"class\": \"result-item\"})\n",
    "            name = content[user].find('img').get('title')\n",
    "            name = str(name).strip()\n",
    "\n",
    "            freela = driver.find_element(By.LINK_TEXT, name)\n",
    "            time.sleep(1)\n",
    "\n",
    "            freela.click()\n",
    "        except:\n",
    "            continue\n",
    "        \n",
    "        time.sleep(1)\n",
    "\n",
    "        try:\n",
    "            freela_content = driver.find_element(By.CLASS_NAME, \"box-profile-view\")\n",
    "            freela_content = freela_content.get_attribute('outerHTML')\n",
    "\n",
    "            freela_soup = BeautifulSoup(freela_content, \"html.parser\")\n",
    "            skills = freela_soup.find(\"div\", {\"class\": \"container-habilidades\"})\n",
    "            skills = skills.find_all(\"li\", {\"class\": \"tag-info\"})\n",
    "            skills = [skills[i].string for i in range(len(skills))]\n",
    "            \n",
    "            interest_areas = freela_soup.find(\"div\", {\"class\": \"container-areasdeinteresse\"})\n",
    "            interest = interest_areas.find_all(\"li\", {\"class\": \"tag-info\"})\n",
    "            interest = [interest[i].string for i in range(len(interest))]\n",
    "        except:\n",
    "            continue\n",
    "\n",
    "        try:\n",
    "            df = pd.read_csv(\"99freelas_dataScience.csv\")\n",
    "            df.loc[df.shape[0]] = [name, skills, interest]\n",
    "            df.to_csv(\"99freelas_dataScience.csv\", index=False)\n",
    "        except:\n",
    "            continue\n",
    "\n",
    "        try:\n",
    "            driver.back()   \n",
    "            time.sleep(3)     \n",
    "            driver.execute_script(f\"window.scrollTo(0, {height})\") \n",
    "            height += 250\n",
    "        except:\n",
    "            continue\n",
    "        \n",
    "        time.sleep(3)\n",
    "        \n",
    "    print(page)\n",
    "\n",
    "\n",
    "time.sleep(2)\n",
    "driver.quit()"
   ]
  },
  {
   "cell_type": "code",
   "execution_count": 54,
   "metadata": {},
   "outputs": [
    {
     "name": "stderr",
     "output_type": "stream",
     "text": [
      "/tmp/ipykernel_7376/1156907532.py:4: DeprecationWarning: headless property is deprecated, instead use add_argument('-headless')\n",
      "  option.headless = True\n"
     ]
    },
    {
     "ename": "WebDriverException",
     "evalue": "Message: Failed to decode response from marionette\n",
     "output_type": "error",
     "traceback": [
      "\u001b[0;31m---------------------------------------------------------------------------\u001b[0m",
      "\u001b[0;31mWebDriverException\u001b[0m                        Traceback (most recent call last)",
      "\u001b[1;32m/home/guibitten/faculdade/Complex Networks/crawler.ipynb Cell 3\u001b[0m in \u001b[0;36m<cell line: 14>\u001b[0;34m()\u001b[0m\n\u001b[1;32m     <a href='vscode-notebook-cell:/home/guibitten/faculdade/Complex%20Networks/crawler.ipynb#W2sZmlsZQ%3D%3D?line=26'>27</a>\u001b[0m job_contents \u001b[39m=\u001b[39m []\n\u001b[1;32m     <a href='vscode-notebook-cell:/home/guibitten/faculdade/Complex%20Networks/crawler.ipynb#W2sZmlsZQ%3D%3D?line=28'>29</a>\u001b[0m \u001b[39mfor\u001b[39;00m job \u001b[39min\u001b[39;00m \u001b[39mrange\u001b[39m(\u001b[39mlen\u001b[39m(keys)):\n\u001b[1;32m     <a href='vscode-notebook-cell:/home/guibitten/faculdade/Complex%20Networks/crawler.ipynb#W2sZmlsZQ%3D%3D?line=29'>30</a>\u001b[0m     \u001b[39m# Peguei o trabalho y da lista de trabalhos x\u001b[39;00m\n\u001b[0;32m---> <a href='vscode-notebook-cell:/home/guibitten/faculdade/Complex%20Networks/crawler.ipynb#W2sZmlsZQ%3D%3D?line=30'>31</a>\u001b[0m     present_card \u001b[39m=\u001b[39m driver\u001b[39m.\u001b[39;49mfind_element(\u001b[39m\"\u001b[39;49m\u001b[39mxpath\u001b[39;49m\u001b[39m\"\u001b[39;49m,\n\u001b[1;32m     <a href='vscode-notebook-cell:/home/guibitten/faculdade/Complex%20Networks/crawler.ipynb#W2sZmlsZQ%3D%3D?line=31'>32</a>\u001b[0m         \u001b[39mf\u001b[39;49m\u001b[39m\"\u001b[39;49m\u001b[39m//section[@data-test-key=\u001b[39;49m\u001b[39m'\u001b[39;49m\u001b[39m{\u001b[39;49;00mkeys[job]\u001b[39m}\u001b[39;49;00m\u001b[39m'\u001b[39;49m\u001b[39m]\u001b[39;49m\u001b[39m\"\u001b[39;49m)\u001b[39m.\u001b[39mclick()\n\u001b[1;32m     <a href='vscode-notebook-cell:/home/guibitten/faculdade/Complex%20Networks/crawler.ipynb#W2sZmlsZQ%3D%3D?line=33'>34</a>\u001b[0m     time\u001b[39m.\u001b[39msleep(\u001b[39m4\u001b[39m)\n\u001b[1;32m     <a href='vscode-notebook-cell:/home/guibitten/faculdade/Complex%20Networks/crawler.ipynb#W2sZmlsZQ%3D%3D?line=35'>36</a>\u001b[0m     content \u001b[39m=\u001b[39m driver\u001b[39m.\u001b[39mfind_element(By\u001b[39m.\u001b[39mCLASS_NAME, \u001b[39m\"\u001b[39m\u001b[39mcfe-ui-job-details-content\u001b[39m\u001b[39m\"\u001b[39m)\n",
      "File \u001b[0;32m~/.local/lib/python3.10/site-packages/selenium/webdriver/remote/webdriver.py:740\u001b[0m, in \u001b[0;36mWebDriver.find_element\u001b[0;34m(self, by, value)\u001b[0m\n\u001b[1;32m    737\u001b[0m     by \u001b[39m=\u001b[39m By\u001b[39m.\u001b[39mCSS_SELECTOR\n\u001b[1;32m    738\u001b[0m     value \u001b[39m=\u001b[39m \u001b[39mf\u001b[39m\u001b[39m'\u001b[39m\u001b[39m[name=\u001b[39m\u001b[39m\"\u001b[39m\u001b[39m{\u001b[39;00mvalue\u001b[39m}\u001b[39;00m\u001b[39m\"\u001b[39m\u001b[39m]\u001b[39m\u001b[39m'\u001b[39m\n\u001b[0;32m--> 740\u001b[0m \u001b[39mreturn\u001b[39;00m \u001b[39mself\u001b[39;49m\u001b[39m.\u001b[39;49mexecute(Command\u001b[39m.\u001b[39;49mFIND_ELEMENT, {\u001b[39m\"\u001b[39;49m\u001b[39musing\u001b[39;49m\u001b[39m\"\u001b[39;49m: by, \u001b[39m\"\u001b[39;49m\u001b[39mvalue\u001b[39;49m\u001b[39m\"\u001b[39;49m: value})[\u001b[39m\"\u001b[39m\u001b[39mvalue\u001b[39m\u001b[39m\"\u001b[39m]\n",
      "File \u001b[0;32m~/.local/lib/python3.10/site-packages/selenium/webdriver/remote/webdriver.py:346\u001b[0m, in \u001b[0;36mWebDriver.execute\u001b[0;34m(self, driver_command, params)\u001b[0m\n\u001b[1;32m    344\u001b[0m response \u001b[39m=\u001b[39m \u001b[39mself\u001b[39m\u001b[39m.\u001b[39mcommand_executor\u001b[39m.\u001b[39mexecute(driver_command, params)\n\u001b[1;32m    345\u001b[0m \u001b[39mif\u001b[39;00m response:\n\u001b[0;32m--> 346\u001b[0m     \u001b[39mself\u001b[39;49m\u001b[39m.\u001b[39;49merror_handler\u001b[39m.\u001b[39;49mcheck_response(response)\n\u001b[1;32m    347\u001b[0m     response[\u001b[39m\"\u001b[39m\u001b[39mvalue\u001b[39m\u001b[39m\"\u001b[39m] \u001b[39m=\u001b[39m \u001b[39mself\u001b[39m\u001b[39m.\u001b[39m_unwrap_value(response\u001b[39m.\u001b[39mget(\u001b[39m\"\u001b[39m\u001b[39mvalue\u001b[39m\u001b[39m\"\u001b[39m, \u001b[39mNone\u001b[39;00m))\n\u001b[1;32m    348\u001b[0m     \u001b[39mreturn\u001b[39;00m response\n",
      "File \u001b[0;32m~/.local/lib/python3.10/site-packages/selenium/webdriver/remote/errorhandler.py:245\u001b[0m, in \u001b[0;36mErrorHandler.check_response\u001b[0;34m(self, response)\u001b[0m\n\u001b[1;32m    243\u001b[0m         alert_text \u001b[39m=\u001b[39m value[\u001b[39m\"\u001b[39m\u001b[39malert\u001b[39m\u001b[39m\"\u001b[39m]\u001b[39m.\u001b[39mget(\u001b[39m\"\u001b[39m\u001b[39mtext\u001b[39m\u001b[39m\"\u001b[39m)\n\u001b[1;32m    244\u001b[0m     \u001b[39mraise\u001b[39;00m exception_class(message, screen, stacktrace, alert_text)  \u001b[39m# type: ignore[call-arg]  # mypy is not smart enough here\u001b[39;00m\n\u001b[0;32m--> 245\u001b[0m \u001b[39mraise\u001b[39;00m exception_class(message, screen, stacktrace)\n",
      "\u001b[0;31mWebDriverException\u001b[0m: Message: Failed to decode response from marionette\n"
     ]
    }
   ],
   "source": [
    "url = \"https://www.upwork.com/nx/jobs/search/?from_recent_search=true&q=data%20science&sort=recency\"\n",
    "\n",
    "option = Options()\n",
    "option.headless = True\n",
    "\n",
    "driver = webdriver.Firefox()\n",
    "\n",
    "driver.get(url)\n",
    "\n",
    "NUM_PAGES = 500\n",
    "\n",
    "time.sleep(3)\n",
    "\n",
    "for page in range(NUM_PAGES):\n",
    "    # Peguei a lista de trabalhos da pagina x\n",
    "    section_element = driver.find_element(\"xpath\",\n",
    "        \"//div[@data-test='job-tile-list']\")\n",
    "    list_content = section_element.get_attribute('outerHTML')\n",
    "    soup = BeautifulSoup(list_content, \"html.parser\")\n",
    "    keys = soup.find_all(\"section\", {\"class\":\"up-card-section\"})\n",
    "    keys = [keys[i].attrs['data-test-key'] for i in range(len(keys))]\n",
    "\n",
    "    time.sleep(1)\n",
    "\n",
    "    height = 400\n",
    "    \n",
    "    job_contents = []\n",
    "\n",
    "    for job in range(len(keys)):\n",
    "        # Peguei o trabalho y da lista de trabalhos x\n",
    "        present_card = driver.find_element(\"xpath\",\n",
    "            f\"//section[@data-test-key='{keys[job]}']\").click()\n",
    "\n",
    "        time.sleep(4)\n",
    "\n",
    "        content = driver.find_element(By.CLASS_NAME, \"cfe-ui-job-details-content\")\n",
    "        content = content.get_attribute('outerHTML')\n",
    "        content = BeautifulSoup(content, \"html.parser\")\n",
    "        job_contents.append(content)\n",
    "\n",
    "        time.sleep(1)\n",
    "        driver.back()   \n",
    "        time.sleep(3) \n",
    "        driver.execute_script(f\"window.scrollTo(0, {height})\") \n",
    "        time.sleep(1)\n",
    "        height += 250\n",
    "        \n",
    "    time.sleep(1)\n",
    "    \n",
    "    df = pd.read_csv(\"upwork_dataScience.csv\")\n",
    "    prev_col = list(df['content'].values)\n",
    "    prev_col += job_contents\n",
    "    new_df = pd.DataFrame({\"content\":prev_col})\n",
    "    new_df.to_csv(\"upwork_dataScience.csv\", index=False)\n",
    "    del new_df\n",
    "    \n",
    "    driver.find_element(By.XPATH, \n",
    "            \"//button[contains(@class, 'up-pagination-item up-btn up-btn-link')]//*[contains(., 'Next')]/..\").click()\n",
    "    \n",
    "    time.sleep(3)\n",
    "    \n",
    "\n",
    "time.sleep(2)\n",
    "driver.quit()"
   ]
  },
  {
   "cell_type": "code",
   "execution_count": 61,
   "metadata": {},
   "outputs": [
    {
     "name": "stderr",
     "output_type": "stream",
     "text": [
      "/tmp/ipykernel_7376/500495525.py:4: DeprecationWarning: headless property is deprecated, instead use add_argument('-headless')\n",
      "  option.headless = True\n"
     ]
    }
   ],
   "source": [
    "url = \"https://www.upwork.com/nx/jobs/search/?from_recent_search=true&q=data%20science&sort=recency\"\n",
    "\n",
    "option = Options()\n",
    "option.headless = True\n",
    "\n",
    "driver = webdriver.Firefox()\n",
    "\n",
    "driver.get(url)\n",
    "\n",
    "driver.execute_script(f\"window.scrollTo(0, 2000)\") \n",
    "\n",
    "time.sleep(2)\n",
    "\n",
    "driver.find_element(By.XPATH, \n",
    "            \"//button[contains(@class, 'up-pagination-item up-btn up-btn-link')]//*[contains(., 'Next')]/..\").click()\n",
    "\n",
    "\n",
    "# time.sleep(5)\n",
    "# driver.quit()"
   ]
  },
  {
   "cell_type": "code",
   "execution_count": 62,
   "metadata": {},
   "outputs": [
    {
     "data": {
      "text/html": [
       "<div>\n",
       "<style scoped>\n",
       "    .dataframe tbody tr th:only-of-type {\n",
       "        vertical-align: middle;\n",
       "    }\n",
       "\n",
       "    .dataframe tbody tr th {\n",
       "        vertical-align: top;\n",
       "    }\n",
       "\n",
       "    .dataframe thead th {\n",
       "        text-align: right;\n",
       "    }\n",
       "</style>\n",
       "<table border=\"1\" class=\"dataframe\">\n",
       "  <thead>\n",
       "    <tr style=\"text-align: right;\">\n",
       "      <th></th>\n",
       "      <th>content</th>\n",
       "    </tr>\n",
       "  </thead>\n",
       "  <tbody>\n",
       "    <tr>\n",
       "      <th>0</th>\n",
       "      <td>&lt;div class=\"col-12 cfe-ui-job-details-content\"...</td>\n",
       "    </tr>\n",
       "    <tr>\n",
       "      <th>1</th>\n",
       "      <td>&lt;div class=\"col-12 cfe-ui-job-details-content\"...</td>\n",
       "    </tr>\n",
       "    <tr>\n",
       "      <th>2</th>\n",
       "      <td>&lt;div class=\"col-12 cfe-ui-job-details-content\"...</td>\n",
       "    </tr>\n",
       "    <tr>\n",
       "      <th>3</th>\n",
       "      <td>&lt;div class=\"col-12 cfe-ui-job-details-content\"...</td>\n",
       "    </tr>\n",
       "    <tr>\n",
       "      <th>4</th>\n",
       "      <td>&lt;div class=\"col-12 cfe-ui-job-details-content\"...</td>\n",
       "    </tr>\n",
       "  </tbody>\n",
       "</table>\n",
       "</div>"
      ],
      "text/plain": [
       "                                             content\n",
       "0  <div class=\"col-12 cfe-ui-job-details-content\"...\n",
       "1  <div class=\"col-12 cfe-ui-job-details-content\"...\n",
       "2  <div class=\"col-12 cfe-ui-job-details-content\"...\n",
       "3  <div class=\"col-12 cfe-ui-job-details-content\"...\n",
       "4  <div class=\"col-12 cfe-ui-job-details-content\"..."
      ]
     },
     "execution_count": 62,
     "metadata": {},
     "output_type": "execute_result"
    }
   ],
   "source": [
    "df = pd.read_csv(\"upwork_dataScience.csv\")\n",
    "df.head()"
   ]
  },
  {
   "cell_type": "code",
   "execution_count": 67,
   "metadata": {},
   "outputs": [
    {
     "data": {
      "text/plain": [
       "array(['<div class=\"col-12 cfe-ui-job-details-content\"><!-- --> <header class=\"up-card-header d-flex\"> <h1 class=\"my-0 mr-10 display-rebrand\">\\n            Webcrawler to collect data of all escaperooms in a country\\n          </h1> <!-- --></header> <section class=\"up-card-section\"><span class=\"mr-10\">Search more <div class=\"cfe-ui-job-breadcrumbs d-inline-block\" data-test=\"category\"><!-- --> <span><a data-test=\"category-link\" href=\"/nx/jobs/search/?occupation_uid=1110580752293548032\" target=\"_blank\">\\n      Data Extraction\\n    </a></span> <!-- --></div> jobs</span> <div class=\"posted-on d-inline-block mr-10\" data-test=\"posted-on\" id=\"posted-on\"><span class=\"text-muted\">\\n    Posted\\n    <span class=\"inline\" data-test=\"up-c-relative-time\">12 minutes ago</span></span></div> <div class=\"mt-20 d-flex align-items-center location-restriction\" data-test=\"location-restriction-label\"><div class=\"domestic-opening-label-color mr-5 vertical-align-middle up-icon\" data-test=\"up-c-icon-v2\"><svg aria-hidden=\"true\" role=\"img\" viewbox=\"0 0 14 14\" xmlns=\"http://www.w3.org/2000/svg\"><path d=\"M10.8 2.692C10.214.93 8.439-.188 6.558.025c-1.062.12-1.961.566-2.631 1.384-.866 1.058-1.17 2.244-.722 3.569.266.782.649 1.511 1.063 2.225.758 1.308 1.618 2.547 2.529 3.754l.199.261c.029-.034.049-.056.065-.077a39.597 39.597 0 002.367-3.432c.458-.752.888-1.518 1.216-2.332.153-.381.287-.768.334-1.174.061-.517-.016-1.021-.178-1.511zM6.982 5.611c-.955 0-1.699-.736-1.699-1.684 0-.946.748-1.682 1.707-1.681.979.002 1.723.728 1.723 1.682.002.958-.745 1.683-1.731 1.683zm3.248 4.078c2.23.383 3.77 1.138 3.77 2.02C14 12.973 10.866 14 7 14c-3.867 0-7-1.027-7-2.291 0-.881 1.533-1.635 3.756-2.018.324.49.678.996 1.059 1.52-.883.128-1.578.313-2.004.494.733.311 2.19.659 4.189.659 2 0 3.456-.349 4.189-.659-.428-.184-1.127-.369-2.017-.498.375-.516.728-1.021 1.058-1.518z\"></path></svg></div> <!-- --> <span class=\"vertical-align-middle\">\\n    Worldwide\\n  </span> </div> </section> <section class=\"up-card-section\"><!-- --> <div class=\"job-description break mb-0\" data-test=\"description\"><div>For a specific project we need as much information of all escaperooms in the netherlands.<br/>\\n<br/>\\nWe need is all websites URL\\'s, addresses and if possible e-mail addresses. If possible we would also like to have the name of the escaperoom, opening times (when displayed on the website) and a small text about the escaperoom.<br/>\\n<br/>\\nThis generated list is the base for us to start checking all these rooms but it would safe us a lot of time when the basics are already generated.<br/>\\n<br/>\\nCan this be done using AI and a webcrawler?</div></div></section> <!-- --> <section class=\"up-card-section\"><ul class=\"cfe-ui-job-features p-0 fluid-layout-md\" data-test=\"job-features\"><!-- --> <!-- --> <li class=\"\"><div class=\"header\"><div class=\"icon up-icon\" data-cy=\"fixed-price\" data-test=\"up-c-icon\"><svg aria-hidden=\"true\" role=\"img\" viewbox=\"0 0 14 14\" xmlns=\"http://www.w3.org/2000/svg\"><path d=\"M13.688.311L8.666 0 0 8.665 5.334 14 14 5.332 13.688.311zm-2.354 1.528a.827.827 0 11-.002 1.654.827.827 0 01.002-1.654zM6.441 9.892c-.384-.016-.761-.168-1.128-.455l-.73.729-.579-.578.73-.729a3.612 3.612 0 01-.498-.872 3.186 3.186 0 01-.223-.934l.965-.331c.018.339.094.672.229 1.002.133.325.297.586.488.777.164.164.32.264.473.295s.287-.009.4-.123a.422.422 0 00.131-.315c-.004-.123-.035-.249-.094-.381s-.146-.308-.27-.52a6.892 6.892 0 01-.39-.793 1.501 1.501 0 01-.086-.7c.028-.248.157-.486.383-.714.275-.273.596-.408.971-.402.369.008.74.149 1.109.423l.682-.682.578.577-.676.677c.176.224.326.461.446.707.121.25.205.495.252.734l-.965.354a3.638 3.638 0 00-.314-.84 2.369 2.369 0 00-.419-.616.863.863 0 00-.404-.253.344.344 0 00-.342.1.438.438 0 00-.109.458c.049.18.162.427.332.739.172.31.299.582.383.807.086.226.113.465.084.714-.03.252-.161.493-.393.723-.295.297-.635.436-1.016.422z\"></path></svg></div> <strong>\\n          $300.00\\n        </strong></div> <small class=\"text-muted\">Fixed-price</small></li> <!-- --> <li class=\"\"><div class=\"header\"><div class=\"icon up-icon\" data-cy=\"expertise\" data-test=\"up-c-icon\"><svg aria-hidden=\"true\" role=\"img\" viewbox=\"0 0 14 14\" xmlns=\"http://www.w3.org/2000/svg\"><path d=\"M12.8 8.4l-1.3-2.3v-.8C11.6 2.4 9.2 0 6.3 0S1.1 2.4 1.1 5.3c0 1.4.5 2.6 1.4 3.5v4.5c0 .4.3.7.7.7h5.3c.4 0 .7-.3.7-.7v-1h1.7c.4 0 .7-.3.7-.7V9h.9c.4 0 .5-.3.3-.6zM8.7 5.3v.4l.7.4c-.2.5-.4.9-.8 1.3L7.9 7c-.2.2-.5.3-.8.4v.8c-.2.1-.5.1-.8.1-.3 0-.5 0-.8-.1v-.8c-.2-.1-.5-.2-.7-.4l-.7.4c-.4-.4-.7-.8-.8-1.3l.7-.4v-.9l-.7-.4c.1-.5.4-1 .8-1.3l.7.4c.2-.2.5-.3.7-.4v-.8c.3-.1.5-.1.8-.1.3 0 .5 0 .8.1v.8c.3.1.5.2.8.4l.7-.4c.4.4.6.8.8 1.3l-.7.4v.5z\"></path><circle cx=\"6.3\" cy=\"5.3\" r=\".9\"></circle></svg></div> <strong>Expert</strong></div> <small class=\"text-muted\">\\n        Experience Level\\n      </small></li> <!-- --> <!-- --> <li class=\"\"><div class=\"header\"><div class=\"icon up-icon\" data-cy=\"local\" data-test=\"up-c-icon\"><svg aria-hidden=\"true\" role=\"img\" viewbox=\"0 0 14 14\" xmlns=\"http://www.w3.org/2000/svg\"><path d=\"M10.8 2.692C10.214.93 8.439-.188 6.558.025c-1.062.12-1.961.566-2.631 1.384-.866 1.058-1.17 2.244-.722 3.569.266.782.649 1.511 1.063 2.225.758 1.308 1.618 2.547 2.529 3.754l.199.261c.029-.034.049-.056.065-.077a39.597 39.597 0 002.367-3.432c.458-.752.888-1.518 1.216-2.332.153-.381.287-.768.334-1.174.061-.517-.016-1.021-.178-1.511zM6.982 5.611c-.955 0-1.699-.736-1.699-1.684 0-.946.748-1.682 1.707-1.681.979.002 1.723.728 1.723 1.682.002.958-.745 1.683-1.731 1.683zm3.248 4.078c2.23.383 3.77 1.138 3.77 2.02C14 12.973 10.866 14 7 14c-3.867 0-7-1.027-7-2.291 0-.881 1.533-1.635 3.756-2.018.324.49.678.996 1.059 1.52-.883.128-1.578.313-2.004.494.733.311 2.19.659 4.189.659 2 0 3.456-.349 4.189-.659-.428-.184-1.127-.369-2.017-.498.375-.516.728-1.021 1.058-1.518z\"></path></svg></div> <strong>Remote Job</strong></div></li> <li class=\"\"><div class=\"header\"><div class=\"icon up-icon\" data-cy=\"briefcase-outlined\" data-test=\"up-c-icon\"><svg aria-hidden=\"true\" role=\"img\" viewbox=\"0 0 14 14\" xmlns=\"http://www.w3.org/2000/svg\"><path d=\"M12.998 3.5H9.799v-2c0-.549-.451-1-1.002-1H5.201c-.549 0-1 .451-1 1v2H1c-.55 0-1 .45-1 1v8c0 .551.45 1 1 1h12c.551 0 1-.449 1-1v-8c0-.549-.451-1-1.002-1zM5.702 2h2.597v1.5H5.702V2zM12.5 5v1.995h-11V5h11zm-11 7V8.494h11V12h-11z\"></path></svg></div> <strong>One-time project</strong></div> <small class=\"text-muted\">\\n      Project Type\\n    </small></li> <!-- --></ul></section> <!-- --> <!-- --> <!-- --> <!-- --> <!-- --> <!-- --> <section class=\"up-card-section\"><h4 aria-level=\"3\" class=\"mb-10\" role=\"heading\">\\n            Skills and Expertise\\n          </h4> <div data-test=\"expertise\" data-v-5100cddc=\"\"><div class=\"fluid-layout\" data-v-5100cddc=\"\"> <div class=\"mt-20 group\" data-v-5100cddc=\"\"><!-- --> <span data-test=\"skill\" data-test-key=\"1031626730405085184\" data-v-5100cddc=\"\" delay-on-mouse-over=\"300\" options=\"[object Object]\" size=\"md\"><!-- --> <span slot=\"reference\"><span class=\"cfe-ui-job-skill up-skill-badge disabled m-0-left m-0-top m-xs-bottom\">Data Scraping</span></span></span><span data-test=\"skill\" data-test-key=\"1031626730287644672\" data-v-5100cddc=\"\" delay-on-mouse-over=\"300\" options=\"[object Object]\" size=\"md\"><!-- --> <span slot=\"reference\"><span class=\"cfe-ui-job-skill up-skill-badge disabled m-0-left m-0-top m-xs-bottom\">Data Mining</span></span></span><span data-test=\"skill\" data-test-key=\"1031626730153426944\" data-v-5100cddc=\"\" delay-on-mouse-over=\"300\" options=\"[object Object]\" size=\"md\"><!-- --> <span slot=\"reference\"><span class=\"cfe-ui-job-skill up-skill-badge disabled m-0-left m-0-top m-xs-bottom\">Data Extraction</span></span></span><span data-test=\"skill\" data-test-key=\"1110580525083906048\" data-v-5100cddc=\"\" delay-on-mouse-over=\"300\" options=\"[object Object]\" size=\"md\"><!-- --> <span slot=\"reference\"><span class=\"cfe-ui-job-skill up-skill-badge disabled m-0-left m-0-top m-xs-bottom\">Company Research</span></span></span> <span data-test=\"up-c-popover\" data-v-5100cddc=\"\"><span><div aria-describedby=\"popper_1\" class=\"up-skill-badge m-0-left m-0-top m-xs-bottom up-popper-trigger\" role=\"button\" tabindex=\"0\">\\n    + 2 more\\n  </div></span> <span class=\"popper up-popover up-popover-appended-to-body\" data-test=\"transition\" id=\"popper_1\" style=\"display: none;\"><div class=\"size-md\"><div class=\"popper-wrapper\"><div class=\"popper-inner\"><!-- --> <div class=\"popper-content\"><div class=\"text-center\"><span data-test=\"skill\" data-test-key=\"1031626730153426944\" delay-on-mouse-over=\"300\" options=\"[object Object]\" size=\"md\"><!-- --> <span slot=\"reference\"><span class=\"cfe-ui-job-skill up-skill-badge disabled m-0-left m-0-top m-xs-bottom\">Data Extraction</span></span></span><span data-test=\"skill\" data-test-key=\"1110580525083906048\" delay-on-mouse-over=\"300\" options=\"[object Object]\" size=\"md\"><!-- --> <span slot=\"reference\"><span class=\"cfe-ui-job-skill up-skill-badge disabled m-0-left m-0-top m-xs-bottom\">Company Research</span></span></span></div> </div> <div class=\"arrow\" x-arrow=\"\"></div></div></div></div></span></span></div></div></div></section> <!-- --> <!-- --> <section class=\"up-card-section\"><div class=\"fluid-layout\" data-test=\"client-activity\" data-v-761b80c4=\"\"><h4 aria-level=\"3\" data-v-761b80c4=\"\" role=\"heading\">\\n    Activity on this job\\n  </h4> <ul class=\"list-unstyled mb-0\" data-v-761b80c4=\"\"><li class=\"d-flex d-md-block justify-space-between\" data-v-761b80c4=\"\"><div class=\"d-none d-md-block\" data-v-761b80c4=\"\"><span data-v-761b80c4=\"\">10 to 15</span></div> <span class=\"text-muted mt-5 d-flex align-items-center\" data-v-761b80c4=\"\">\\n          Proposals\\n          <div aria-describedby=\"popper_2\" aria-label=\"More info about proposals\" class=\"mx-5 up-icon up-popper-trigger\" data-test=\"up-c-icon\" data-v-761b80c4=\"\" id=\"proposals\" role=\"button\" tabindex=\"0\"><svg aria-hidden=\"true\" role=\"img\" viewbox=\"0 0 14 14\" xmlns=\"http://www.w3.org/2000/svg\"><path d=\"M7 0a7 7 0 100 14A7 7 0 007 0zm3.017 4.981c0 1.57-1.128 2.278-2.52 2.52l-.131 1.03h-.96l-.251-2.015.059-.06c1.608-.06 2.327-.588 2.327-1.44v-.023c0-.72-.551-1.236-1.462-1.236-.804 0-1.464.36-2.064 1.008l-.9-.948c.72-.827 1.644-1.39 3-1.39 1.738 0 2.902.983 2.902 2.53v.024zm-3.958 6.284V9.598h1.606v1.667H6.059z\" fill-rule=\"evenodd\"></path></svg></div> <span data-test=\"up-c-popover\" data-v-761b80c4=\"\"><!-- --> <span class=\"popper up-popover\" data-test=\"transition\" id=\"popper_2\" style=\"display: none;\"><div class=\"size-md\"><div class=\"popper-wrapper\"><div class=\"popper-inner\"><button class=\"up-btn-reset up-popper-close\" data-cy=\"popper-close-btn\" type=\"button\"><span class=\"sr-only\">Close the tooltip</span> <div class=\"up-icon\" data-test=\"up-c-icon-v2\"><svg aria-hidden=\"true\" role=\"img\" viewbox=\"0 0 14 14\" xmlns=\"http://www.w3.org/2000/svg\"><polygon fill-rule=\"evenodd\" points=\"12.524 0 7 5.524 1.476 0 0 1.476 5.524 7 0 12.524 1.476 14 7 8.476 12.524 14 14 12.524 8.476 7 14 1.476\"></polygon></svg></div></button> <div class=\"popper-content\"><p data-v-761b80c4=\"\">\\n              This range includes relevant proposals, but does not include proposals that are withdrawn, declined, or archived. Please note that all proposals are accessible to clients on their applicants page.\\n            </p></div> <div class=\"arrow\" x-arrow=\"\"></div></div></div></div></span></span></span> <div class=\"d-md-none\" data-v-761b80c4=\"\"><span data-v-761b80c4=\"\">10 to 15</span></div></li> <!-- --> <!-- --> <li class=\"d-flex d-md-block justify-space-between\" data-v-761b80c4=\"\"><div class=\"d-none d-md-block\" data-v-761b80c4=\"\">\\n          0\\n        </div> <span class=\"text-muted mt-5 d-flex align-items-center\" data-v-761b80c4=\"\">\\n          Interviewing\\n        </span> <div class=\"d-md-none\" data-v-761b80c4=\"\">\\n          0\\n        </div></li> <li class=\"d-flex d-md-block justify-space-between\" data-v-761b80c4=\"\"><div class=\"d-none d-md-block\" data-v-761b80c4=\"\">\\n          0\\n        </div> <span class=\"text-muted mt-5 d-flex align-items-center\" data-v-761b80c4=\"\">\\n          Invites sent\\n        </span> <div class=\"d-md-none\" data-v-761b80c4=\"\">\\n          0\\n        </div></li> <li class=\"d-flex d-md-block justify-space-between\" data-v-761b80c4=\"\"><div class=\"d-none d-md-block\" data-v-761b80c4=\"\">\\n          0\\n        </div> <span class=\"text-muted mt-5 d-flex align-items-center\" data-v-761b80c4=\"\">\\n          Unanswered invites\\n        </span> <div class=\"d-md-none\" data-v-761b80c4=\"\">\\n          0\\n        </div></li> <!-- --></ul></div></section> <!-- --> <section class=\"up-card-section\"><div class=\"cfe-about-client-v2\" data-test=\"about-client-visitor-v2\" data-v-670551bb=\"\" is-visitor=\"true\" job=\"[object Object]\"><h4 class=\"mb-20 d-md-inline-block\" data-v-670551bb=\"\">\\n    About the client\\n  </h4> <small class=\"text-muted ml-10 d-none d-md-inline-block\" data-v-670551bb=\"\">\\n    Member since Aug 31, 2016\\n  </small> <ul class=\"list-unstyled cfe-ui-job-about-client-visitor mb-0\" data-v-670551bb=\"\"><!-- --> <li data-qa=\"client-location\" data-v-670551bb=\"\"><strong data-v-670551bb=\"\">Netherlands</strong> <div class=\"text-muted mt-5\" data-v-670551bb=\"\"><span class=\"nowrap\" data-v-670551bb=\"\">Utrecht\\n        </span> <span class=\"nowrap\" data-test=\"local-time\" data-v-670551bb=\"\">10:12 pm </span></div></li> <li data-qa=\"client-job-posting-stats\" data-v-670551bb=\"\"><strong data-v-670551bb=\"\">\\n        53 jobs posted\\n      </strong> <div class=\"text-muted mt-5\" data-v-670551bb=\"\">\\n        74% hire rate, 1 open job\\n      </div></li> <li data-v-670551bb=\"\"><strong data-qa=\"client-spend\" data-v-670551bb=\"\"><span data-v-670551bb=\"\">$6.2K\\n          </span> total spent</strong> <div class=\"text-muted mt-5\" data-qa=\"client-hires\" data-v-670551bb=\"\">\\n        42 hires, 3 active\\n      </div></li> <li data-v-670551bb=\"\"><strong data-qa=\"client-hourly-rate\" data-v-670551bb=\"\">\\n        $20.00\\n        <span class=\"text-muted normal\" data-v-670551bb=\"\">/hr</span>\\n        avg hourly rate paid\\n      </strong> <div class=\"text-muted mt-5\" data-qa=\"client-hours\" data-v-670551bb=\"\">\\n        2\\n        hours\\n      </div></li> <li data-qa=\"client-company-profile\" data-v-670551bb=\"\"><!-- --> <!-- --></li> <li class=\"mb-0 d-md-none\" data-qa=\"client-contract-date\" data-v-670551bb=\"\"><small class=\"text-muted\" data-v-670551bb=\"\">\\n        Member since Aug 31, 2016\\n      </small></li></ul></div></section> </div>'],\n",
       "      dtype=object)"
      ]
     },
     "execution_count": 67,
     "metadata": {},
     "output_type": "execute_result"
    }
   ],
   "source": [
    "df.iloc[0].values"
   ]
  },
  {
   "cell_type": "code",
   "execution_count": 68,
   "metadata": {},
   "outputs": [],
   "source": [
    "content = BeautifulSoup(df.iloc[0].values[0], \"html.parser\")"
   ]
  },
  {
   "cell_type": "code",
   "execution_count": 70,
   "metadata": {},
   "outputs": [
    {
     "data": {
      "text/plain": [
       "<h1 class=\"my-0 mr-10 display-rebrand\">\n",
       "            Webcrawler to collect data of all escaperooms in a country\n",
       "          </h1>"
      ]
     },
     "execution_count": 70,
     "metadata": {},
     "output_type": "execute_result"
    }
   ],
   "source": [
    "content.find(\"h1\", {\"class\":\"my-0 mr-10 display-rebrand\"})"
   ]
  },
  {
   "cell_type": "code",
   "execution_count": 63,
   "metadata": {},
   "outputs": [
    {
     "data": {
      "text/plain": [
       "['Looker Studio Report Fix (for GA4 data and Google Search Console)',\n",
       " 'ChatGPT prompt engineering',\n",
       " 'Saudi programmers with experience in  Full Stack ',\n",
       " 'Data mining to collect population data for United State Geographic areas',\n",
       " 'Calculate of the concentration field around 3 stacks using GPM With excel and i have data',\n",
       " 'Trading Bot',\n",
       " 'Teach me AI',\n",
       " 'Web crawling using scrapy and selenium',\n",
       " 'Scientific Content Researcher - Microplastics and Water',\n",
       " 'Data Analysis for Future Investment']"
      ]
     },
     "execution_count": 63,
     "metadata": {},
     "output_type": "execute_result"
    }
   ],
   "source": [
    "for match in soup.find_all('span'):\n",
    "    match.unwrap()\n",
    "\n",
    "titles = soup.find_all('a', {\"class\":\"up-n-link\"})\n",
    "\n",
    "titles = [tit.text for tit in titles]\n",
    "titles"
   ]
  },
  {
   "cell_type": "code",
   "execution_count": null,
   "metadata": {},
   "outputs": [],
   "source": []
  }
 ],
 "metadata": {
  "kernelspec": {
   "display_name": "Python 3",
   "language": "python",
   "name": "python3"
  },
  "language_info": {
   "codemirror_mode": {
    "name": "ipython",
    "version": 3
   },
   "file_extension": ".py",
   "mimetype": "text/x-python",
   "name": "python",
   "nbconvert_exporter": "python",
   "pygments_lexer": "ipython3",
   "version": "3.10.6"
  },
  "orig_nbformat": 4
 },
 "nbformat": 4,
 "nbformat_minor": 2
}
